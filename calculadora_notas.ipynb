{
  "nbformat": 4,
  "nbformat_minor": 0,
  "metadata": {
    "colab": {
      "provenance": []
    },
    "kernelspec": {
      "name": "python3",
      "display_name": "Python 3"
    },
    "language_info": {
      "name": "python"
    }
  },
  "cells": [
    {
      "cell_type": "markdown",
      "source": [
        "Creamos la lista de puntuaciones:"
      ],
      "metadata": {
        "id": "VgI2CNlDi7yz"
      }
    },
    {
      "cell_type": "code",
      "execution_count": 1,
      "metadata": {
        "id": "XpfFS0oViqf0"
      },
      "outputs": [],
      "source": [
        "puntuaciones=[3,7,4,9,8]"
      ]
    },
    {
      "cell_type": "markdown",
      "source": [
        "Calculamos el promedio de puntuaciones:"
      ],
      "metadata": {
        "id": "xlDmobOzjEI1"
      }
    },
    {
      "cell_type": "code",
      "source": [
        "def calcular_promedio_puntuaciones(puntuaciones):\n",
        "  suma = 0\n",
        "  for punt in puntuaciones:\n",
        "    suma+=punt\n",
        "  media = suma/len(puntuaciones)\n",
        "  return media"
      ],
      "metadata": {
        "id": "kP65TKe0jLiV"
      },
      "execution_count": 2,
      "outputs": []
    },
    {
      "cell_type": "code",
      "source": [
        "calcular_promedio_puntuaciones(puntuaciones)"
      ],
      "metadata": {
        "colab": {
          "base_uri": "https://localhost:8080/"
        },
        "id": "NXYIFn_8jhRA",
        "outputId": "ab402a6e-4f01-4f1d-b820-6bdc425e7c5a"
      },
      "execution_count": 3,
      "outputs": [
        {
          "output_type": "execute_result",
          "data": {
            "text/plain": [
              "6.2"
            ]
          },
          "metadata": {},
          "execution_count": 3
        }
      ]
    },
    {
      "cell_type": "markdown",
      "source": [
        "Calculamos la puntuación máxima:"
      ],
      "metadata": {
        "id": "KDhJL53bj7oC"
      }
    },
    {
      "cell_type": "code",
      "source": [
        "def calcular_puntuacion_maxima(puntuaciones):\n",
        "  max = 0\n",
        "  for punt in puntuaciones:\n",
        "    if punt > max:\n",
        "      max = punt\n",
        "  return max"
      ],
      "metadata": {
        "id": "clivNnkvj5VY"
      },
      "execution_count": 9,
      "outputs": []
    },
    {
      "cell_type": "code",
      "source": [
        "calcular_puntuacion_maxima(puntuaciones)"
      ],
      "metadata": {
        "colab": {
          "base_uri": "https://localhost:8080/"
        },
        "id": "v367TkJyj5zT",
        "outputId": "37146e93-3d0c-45d9-8fe1-5032142def06"
      },
      "execution_count": 10,
      "outputs": [
        {
          "output_type": "execute_result",
          "data": {
            "text/plain": [
              "9"
            ]
          },
          "metadata": {},
          "execution_count": 10
        }
      ]
    },
    {
      "cell_type": "markdown",
      "source": [
        "Calculamos la puntuación mínima:"
      ],
      "metadata": {
        "id": "m7UqU3PCkncG"
      }
    },
    {
      "cell_type": "code",
      "source": [
        "def calcular_puntuacion_minima(puntuaciones):\n",
        "  min = 10\n",
        "  for punt in puntuaciones:\n",
        "    if punt < min:\n",
        "      min = punt\n",
        "  return min"
      ],
      "metadata": {
        "id": "9Hzp9XmdlKbc"
      },
      "execution_count": 13,
      "outputs": []
    },
    {
      "cell_type": "code",
      "source": [
        "calcular_puntuacion_minima(puntuaciones)"
      ],
      "metadata": {
        "colab": {
          "base_uri": "https://localhost:8080/"
        },
        "id": "k7JMgu2jmYdk",
        "outputId": "66c51dec-d944-4ccc-a287-c89e1080e90a"
      },
      "execution_count": 15,
      "outputs": [
        {
          "output_type": "execute_result",
          "data": {
            "text/plain": [
              "3"
            ]
          },
          "metadata": {},
          "execution_count": 15
        }
      ]
    },
    {
      "cell_type": "markdown",
      "source": [
        "Calculamos la suma de puntuaciones:"
      ],
      "metadata": {
        "id": "pqQBCb-Gn07a"
      }
    },
    {
      "cell_type": "code",
      "source": [
        "def calcular_total_puntuaciones(puntuaciones):\n",
        "  suma = 0\n",
        "  for punt in puntuaciones:\n",
        "    suma+=punt\n",
        "  return suma"
      ],
      "metadata": {
        "id": "9WoKQq0rng9j"
      },
      "execution_count": 16,
      "outputs": []
    },
    {
      "cell_type": "code",
      "source": [
        "calcular_total_puntuaciones(puntuaciones)"
      ],
      "metadata": {
        "colab": {
          "base_uri": "https://localhost:8080/"
        },
        "id": "SFkTFyQmnwcH",
        "outputId": "a50d20ac-4a88-4e84-e6dd-818ee6c63a89"
      },
      "execution_count": 17,
      "outputs": [
        {
          "output_type": "execute_result",
          "data": {
            "text/plain": [
              "31"
            ]
          },
          "metadata": {},
          "execution_count": 17
        }
      ]
    }
  ]
}
